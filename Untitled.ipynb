{
 "cells": [
  {
   "cell_type": "code",
   "execution_count": null,
   "id": "d4b7c0a2-42e9-4f52-8d85-ef1d3018f320",
   "metadata": {},
   "outputs": [],
   "source": [
    "from datasets import load_dataset\n",
    "\n",
    "from datasets import load_dataset\n",
    "import csv\n",
    "\n",
    "# Load the Hindi subset of the dataset\n",
    "dataset = load_dataset(\"ai4bharat/IndicCorpV2\", \"indiccorp_v2\", split=\"hin_Deva\",streaming=True)\n",
    "\n",
    "with open(\"hindi_10000.csv\", mode=\"w\", encoding=\"utf-8\", newline=\"\") as f:\n",
    "    writer = csv.writer(f)\n",
    "    writer.writerow([\"text\"])  # Header\n",
    "\n",
    "    for i, sample in enumerate(dataset):\n",
    "        writer.writerow([sample[\"text\"]])\n",
    "        if i + 1 >= 2500000:\n",
    "            break\n",
    "\n",
    "dataset = load_dataset(\"ai4bharat/IndicCorpV2\", \"indiccorp_v2\", data_dir=\"data/hin_Deva\")\n"
   ]
  },
  {
   "cell_type": "code",
   "execution_count": null,
   "id": "a54f72c5-dc8a-4e6c-bf30-978e07401395",
   "metadata": {},
   "outputs": [],
   "source": []
  }
 ],
 "metadata": {
  "kernelspec": {
   "display_name": "Python 3 (ipykernel)",
   "language": "python",
   "name": "python3"
  },
  "language_info": {
   "codemirror_mode": {
    "name": "ipython",
    "version": 3
   },
   "file_extension": ".py",
   "mimetype": "text/x-python",
   "name": "python",
   "nbconvert_exporter": "python",
   "pygments_lexer": "ipython3",
   "version": "3.11.3"
  }
 },
 "nbformat": 4,
 "nbformat_minor": 5
}
